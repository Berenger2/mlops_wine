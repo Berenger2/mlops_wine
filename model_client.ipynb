{
 "cells": [
  {
   "cell_type": "code",
   "execution_count": 1,
   "id": "41d210a0-eb18-4922-b455-5f4fb9ea8f50",
   "metadata": {},
   "outputs": [],
   "source": [
    "import mlflow\n",
    "import numpy as np\n",
    "from mlflow import MlflowClient\n",
    "import pandas as pd\n",
    "\n",
    "MLFLOW_TRACKING_URI = \"sqlite:///wine_pred.db\"\n",
    "client = MlflowClient(tracking_uri=MLFLOW_TRACKING_URI)"
   ]
  },
  {
   "cell_type": "code",
   "execution_count": 2,
   "id": "4733fc55-b881-4480-8aaa-7abf114a899a",
   "metadata": {},
   "outputs": [
    {
     "name": "stdout",
     "output_type": "stream",
     "text": [
      "Experiment ID: 3\n",
      "Name: client_file2\n",
      "Artifact Location: /workspaces/mlops_wine/mlruns/3\n",
      "-\n",
      "Experiment ID: 2\n",
      "Name: client\n",
      "Artifact Location: /workspaces/mlops_wine/mlruns/2\n",
      "-\n",
      "Experiment ID: 1\n",
      "Name: wine-quality-prediction\n",
      "Artifact Location: /workspaces/mlops_wine/mlruns/1\n",
      "-\n",
      "Experiment ID: 0\n",
      "Name: Default\n",
      "Artifact Location: mlflow-artifacts:/0\n",
      "-\n"
     ]
    }
   ],
   "source": [
    "experiments = client.search_experiments()\n",
    "for experiment in experiments:\n",
    "    print(f\"Experiment ID: {experiment.experiment_id}\")\n",
    "    print(f\"Name: {experiment.name}\")\n",
    "    print(f\"Artifact Location: {experiment.artifact_location}\")\n",
    "    print(\"-\")"
   ]
  },
  {
   "cell_type": "code",
   "execution_count": 3,
   "id": "ef3228ff-050f-4895-9396-acf04cc1b4a4",
   "metadata": {},
   "outputs": [],
   "source": [
    "#client.create_experiment(name=\"client_file2\")"
   ]
  },
  {
   "cell_type": "code",
   "execution_count": 4,
   "id": "f901d0ab-e683-4ec9-8964-7eaca3c17122",
   "metadata": {},
   "outputs": [
    {
     "name": "stdout",
     "output_type": "stream",
     "text": [
      "run id: e8c1b3fc4dcd423b8ed221b171203157, accuracy: 0.69\n",
      "run id: c85f35d99a4b4feaa21f84899fec0443, accuracy: 0.69\n",
      "run id: 53e9a89d9725416ca1b19105cc62df3b, accuracy: 0.66\n",
      "run id: b698158da9154d36b157f1f9a2a04b00, accuracy: 0.66\n",
      "run id: 0fd4c9064f7e45feb41d29d73cb519c4, accuracy: 0.64\n",
      "run id: 92891123787148ff85e95bcb900182f4, accuracy: 0.64\n",
      "run id: ef74486a69674befa413a77cccc27080, accuracy: 0.64\n",
      "run id: d627ff48b5544e7b8a87d2564f806960, accuracy: 0.64\n",
      "run id: 6f7e1221a5aa484fb1b8f288e6f26162, accuracy: 0.63\n",
      "run id: 37a77f6654084abb9d5478bed336be38, accuracy: 0.63\n",
      "run id: 6f1d714f9795424498835a1e66d7e21d, accuracy: 0.57\n",
      "run id: e289edb7fcd54190856cf5870b4bc0ca, accuracy: 0.57\n",
      "run id: 53367f1d73a54641beba4144aa3c0480, accuracy: 0.52\n",
      "run id: cec9ccc5938a45b1b068857a4f7ef3a8, accuracy: 0.52\n",
      "run id: fde77d0f244f4eb283a8701f94aff267, accuracy: 0.35\n",
      "run id: 94d3de80638c403494a007f14ee20aab, accuracy: 0.35\n"
     ]
    }
   ],
   "source": [
    "from mlflow.entities import ViewType\n",
    "\n",
    "runs = client.search_runs(\n",
    "    experiment_ids='1',\n",
    "    filter_string=\"metrics.accuracy < 1\",\n",
    "    run_view_type=ViewType.ACTIVE_ONLY,\n",
    "    order_by=[\"metrics.accuracy DESC\"]\n",
    ")\n",
    "for run in runs:\n",
    "    print(f\"run id: {run.info.run_id}, accuracy: {run.data.metrics['accuracy']:.2f}\")"
   ]
  },
  {
   "cell_type": "code",
   "execution_count": 5,
   "id": "e9d4ccdc-bb2a-4309-ac8c-d2c59d3e6492",
   "metadata": {},
   "outputs": [
    {
     "name": "stdout",
     "output_type": "stream",
     "text": [
      "Nom du modèle: wine_classifier\n",
      "  Version: 1, Run ID: c85f35d99a4b4feaa21f84899fec0443\n",
      "  Version: 2, Run ID: b698158da9154d36b157f1f9a2a04b00\n",
      "  Version: 3, Run ID: cec9ccc5938a45b1b068857a4f7ef3a8\n",
      "Nom du modèle: wine_other\n",
      "  Version: 1, Run ID: ef74486a69674befa413a77cccc27080\n",
      "  Version: 2, Run ID: d627ff48b5544e7b8a87d2564f806960\n",
      "Nom du modèle: wine_regressor\n",
      "  Version: 1, Run ID: fde77d0f244f4eb283a8701f94aff267\n",
      "  Version: 2, Run ID: 37a77f6654084abb9d5478bed336be38\n"
     ]
    }
   ],
   "source": [
    "registered_models = client.search_registered_models()\n",
    "\n",
    "for model in registered_models:\n",
    "    print(f\"Nom du modèle: {model.name}\")\n",
    "    for version in model.latest_versions:\n",
    "        print(f\"  Version: {version.version}, Run ID: {version.run_id}\")"
   ]
  },
  {
   "cell_type": "code",
   "execution_count": 6,
   "id": "8695cf9e-5ad2-493e-800b-45bba2e06a3b",
   "metadata": {},
   "outputs": [
    {
     "ename": "OSError",
     "evalue": "No such file or directory: '\\workspaces\\mlops_wine\\mlruns\\1\\37a77f6654084abb9d5478bed336be38\\artifacts\\model'",
     "output_type": "error",
     "traceback": [
      "\u001b[1;31m---------------------------------------------------------------------------\u001b[0m",
      "\u001b[1;31mOSError\u001b[0m                                   Traceback (most recent call last)",
      "Cell \u001b[1;32mIn[6], line 18\u001b[0m\n\u001b[0;32m     14\u001b[0m     \u001b[38;5;28;01mraise\u001b[39;00m \u001b[38;5;167;01mException\u001b[39;00m(\u001b[38;5;124m\"\u001b[39m\u001b[38;5;124mAucune version de modèle en Production trouvée.\u001b[39m\u001b[38;5;124m\"\u001b[39m)\n\u001b[0;32m     16\u001b[0m model_uri \u001b[38;5;241m=\u001b[39m production_model\u001b[38;5;241m.\u001b[39msource\n\u001b[1;32m---> 18\u001b[0m local_path \u001b[38;5;241m=\u001b[39m \u001b[43mmlflow\u001b[49m\u001b[38;5;241;43m.\u001b[39;49m\u001b[43martifacts\u001b[49m\u001b[38;5;241;43m.\u001b[39;49m\u001b[43mdownload_artifacts\u001b[49m\u001b[43m(\u001b[49m\u001b[43mmodel_uri\u001b[49m\u001b[43m)\u001b[49m\n\u001b[0;32m     20\u001b[0m model_path \u001b[38;5;241m=\u001b[39m os\u001b[38;5;241m.\u001b[39mpath\u001b[38;5;241m.\u001b[39mjoin(local_path, \u001b[38;5;124m\"\u001b[39m\u001b[38;5;124mmodel.pkl\u001b[39m\u001b[38;5;124m\"\u001b[39m)\n\u001b[0;32m     21\u001b[0m model \u001b[38;5;241m=\u001b[39m joblib\u001b[38;5;241m.\u001b[39mload(model_path)\n",
      "File \u001b[1;32mC:\\Bureau France\\DISP-Lyon2\\project\\mlops_project\\mlops_wine\\mlf\\lib\\site-packages\\mlflow\\artifacts\\__init__.py:63\u001b[0m, in \u001b[0;36mdownload_artifacts\u001b[1;34m(artifact_uri, run_id, artifact_path, dst_path, tracking_uri)\u001b[0m\n\u001b[0;32m     60\u001b[0m     pathlib\u001b[38;5;241m.\u001b[39mPath(dst_path)\u001b[38;5;241m.\u001b[39mmkdir(exist_ok\u001b[38;5;241m=\u001b[39m\u001b[38;5;28;01mTrue\u001b[39;00m, parents\u001b[38;5;241m=\u001b[39m\u001b[38;5;28;01mTrue\u001b[39;00m)\n\u001b[0;32m     62\u001b[0m \u001b[38;5;28;01mif\u001b[39;00m artifact_uri \u001b[38;5;129;01mis\u001b[39;00m \u001b[38;5;129;01mnot\u001b[39;00m \u001b[38;5;28;01mNone\u001b[39;00m:\n\u001b[1;32m---> 63\u001b[0m     \u001b[38;5;28;01mreturn\u001b[39;00m \u001b[43m_download_artifact_from_uri\u001b[49m\u001b[43m(\u001b[49m\u001b[43martifact_uri\u001b[49m\u001b[43m,\u001b[49m\u001b[43m \u001b[49m\u001b[43moutput_path\u001b[49m\u001b[38;5;241;43m=\u001b[39;49m\u001b[43mdst_path\u001b[49m\u001b[43m)\u001b[49m\n\u001b[0;32m     65\u001b[0m artifact_path \u001b[38;5;241m=\u001b[39m artifact_path \u001b[38;5;28;01mif\u001b[39;00m artifact_path \u001b[38;5;129;01mis\u001b[39;00m \u001b[38;5;129;01mnot\u001b[39;00m \u001b[38;5;28;01mNone\u001b[39;00m \u001b[38;5;28;01melse\u001b[39;00m \u001b[38;5;124m\"\u001b[39m\u001b[38;5;124m\"\u001b[39m\n\u001b[0;32m     67\u001b[0m store \u001b[38;5;241m=\u001b[39m _get_store(store_uri\u001b[38;5;241m=\u001b[39mtracking_uri)\n",
      "File \u001b[1;32mC:\\Bureau France\\DISP-Lyon2\\project\\mlops_project\\mlops_wine\\mlf\\lib\\site-packages\\mlflow\\tracking\\artifact_utils.py:116\u001b[0m, in \u001b[0;36m_download_artifact_from_uri\u001b[1;34m(artifact_uri, output_path, lineage_header_info)\u001b[0m\n\u001b[0;32m    110\u001b[0m \u001b[38;5;28;01mif\u001b[39;00m \u001b[38;5;28misinstance\u001b[39m(repo, ModelsArtifactRepository):\n\u001b[0;32m    111\u001b[0m     \u001b[38;5;28;01mreturn\u001b[39;00m repo\u001b[38;5;241m.\u001b[39mdownload_artifacts(\n\u001b[0;32m    112\u001b[0m         artifact_path\u001b[38;5;241m=\u001b[39martifact_path,\n\u001b[0;32m    113\u001b[0m         dst_path\u001b[38;5;241m=\u001b[39moutput_path,\n\u001b[0;32m    114\u001b[0m         lineage_header_info\u001b[38;5;241m=\u001b[39mlineage_header_info,\n\u001b[0;32m    115\u001b[0m     )\n\u001b[1;32m--> 116\u001b[0m \u001b[38;5;28;01mreturn\u001b[39;00m \u001b[43mrepo\u001b[49m\u001b[38;5;241;43m.\u001b[39;49m\u001b[43mdownload_artifacts\u001b[49m\u001b[43m(\u001b[49m\u001b[43martifact_path\u001b[49m\u001b[38;5;241;43m=\u001b[39;49m\u001b[43martifact_path\u001b[49m\u001b[43m,\u001b[49m\u001b[43m \u001b[49m\u001b[43mdst_path\u001b[49m\u001b[38;5;241;43m=\u001b[39;49m\u001b[43moutput_path\u001b[49m\u001b[43m)\u001b[49m\n",
      "File \u001b[1;32mC:\\Bureau France\\DISP-Lyon2\\project\\mlops_project\\mlops_wine\\mlf\\lib\\site-packages\\mlflow\\store\\artifact\\local_artifact_repo.py:91\u001b[0m, in \u001b[0;36mLocalArtifactRepository.download_artifacts\u001b[1;34m(self, artifact_path, dst_path)\u001b[0m\n\u001b[0;32m     89\u001b[0m local_artifact_path \u001b[38;5;241m=\u001b[39m os\u001b[38;5;241m.\u001b[39mpath\u001b[38;5;241m.\u001b[39mjoin(\u001b[38;5;28mself\u001b[39m\u001b[38;5;241m.\u001b[39martifact_dir, os\u001b[38;5;241m.\u001b[39mpath\u001b[38;5;241m.\u001b[39mnormpath(artifact_path))\n\u001b[0;32m     90\u001b[0m \u001b[38;5;28;01mif\u001b[39;00m \u001b[38;5;129;01mnot\u001b[39;00m os\u001b[38;5;241m.\u001b[39mpath\u001b[38;5;241m.\u001b[39mexists(local_artifact_path):\n\u001b[1;32m---> 91\u001b[0m     \u001b[38;5;28;01mraise\u001b[39;00m \u001b[38;5;167;01mOSError\u001b[39;00m(\u001b[38;5;124mf\u001b[39m\u001b[38;5;124m\"\u001b[39m\u001b[38;5;124mNo such file or directory: \u001b[39m\u001b[38;5;124m'\u001b[39m\u001b[38;5;132;01m{\u001b[39;00mlocal_artifact_path\u001b[38;5;132;01m}\u001b[39;00m\u001b[38;5;124m'\u001b[39m\u001b[38;5;124m\"\u001b[39m)\n\u001b[0;32m     92\u001b[0m \u001b[38;5;28;01mreturn\u001b[39;00m os\u001b[38;5;241m.\u001b[39mpath\u001b[38;5;241m.\u001b[39mabspath(local_artifact_path)\n",
      "\u001b[1;31mOSError\u001b[0m: No such file or directory: '\\workspaces\\mlops_wine\\mlruns\\1\\37a77f6654084abb9d5478bed336be38\\artifacts\\model'"
     ]
    }
   ],
   "source": [
    "#model_name = \"wine_classifier\"\n",
    "#model_name = \"wine_other\"\n",
    "model_name = \"wine_regressor\"\n",
    "\n",
    "model_versions = client.search_model_versions(f\"name='{model_name}'\")\n",
    "\n",
    "production_model = None\n",
    "for version in model_versions:\n",
    "    if version.current_stage == \"Production\":\n",
    "        production_model = version\n",
    "        break\n",
    "\n",
    "if not production_model:\n",
    "    raise Exception(\"Aucune version de modèle en Production trouvée.\")\n",
    "\n",
    "model_uri = production_model.source\n",
    "\n",
    "local_path = mlflow.artifacts.download_artifacts(model_uri)\n",
    "\n",
    "model_path = os.path.join(local_path, \"model.pkl\")\n",
    "model = joblib.load(model_path)\n",
    "\n",
    "feature_names = [\n",
    "    \"fixed acidity\", \"volatile acidity\", \"citric acid\", \"residual sugar\", \"chlorides\",\n",
    "    \"free sulfur dioxide\", \"total sulfur dioxide\", \"density\", \"pH\", \"sulphates\", \"alcohol\"\n",
    "]\n",
    "input_data = pd.DataFrame(np.array([[\n",
    "    15.0,  \n",
    "    1.58, \n",
    "    0.0,   \n",
    "    65.8, \n",
    "    0.611, \n",
    "    3.0,   \n",
    "    125.0, \n",
    "    1.003, \n",
    "    2.74,  \n",
    "    2.00,  \n",
    "    8.4    \n",
    "]]), columns=feature_names)\n",
    "\n",
    "prediction = model.predict(input_data)\n",
    "print(f\"Prédiction de la qualité du vin: {prediction[0]}\")"
   ]
  }
 ],
 "metadata": {
  "kernelspec": {
   "display_name": "Python 3 (ipykernel)",
   "language": "python",
   "name": "python3"
  },
  "language_info": {
   "codemirror_mode": {
    "name": "ipython",
    "version": 3
   },
   "file_extension": ".py",
   "mimetype": "text/x-python",
   "name": "python",
   "nbconvert_exporter": "python",
   "pygments_lexer": "ipython3",
   "version": "3.10.11"
  }
 },
 "nbformat": 4,
 "nbformat_minor": 5
}
