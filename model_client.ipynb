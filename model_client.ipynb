{
 "cells": [
  {
   "cell_type": "code",
   "execution_count": 9,
   "id": "41d210a0-eb18-4922-b455-5f4fb9ea8f50",
   "metadata": {},
   "outputs": [],
   "source": [
    "#from mlflow.tracking import MlflowClient\n",
    "from mlflow import MlflowClient\n",
    "\n",
    "MLFLOW_TRACKING_URI = \"sqlite:///wine_pred.db\""
   ]
  },
  {
   "cell_type": "code",
   "execution_count": 16,
   "id": "4733fc55-b881-4480-8aaa-7abf114a899a",
   "metadata": {},
   "outputs": [
    {
     "name": "stdout",
     "output_type": "stream",
     "text": [
      "Experiment ID: 1, Name: wine-quality-prediction, Artifact Location: /workspaces/mlops_wine/mlruns/1\n",
      "Experiment ID: 0, Name: Default, Artifact Location: mlflow-artifacts:/0\n"
     ]
    }
   ],
   "source": [
    "# Initialize the client (tracking URI is optional if the default is being used)\n",
    "client = MlflowClient(tracking_uri=MLFLOW_TRACKING_URI)\n",
    "\n",
    "# List experiments using the client method\n",
    "experiments = client.search_experiments()\n",
    "for experiment in experiments:\n",
    "    print(f\"Experiment ID: {experiment.experiment_id}, Name: {experiment.name}, Artifact Location: {experiment.artifact_location}\")"
   ]
  }
 ],
 "metadata": {
  "kernelspec": {
   "display_name": "Python 3 (ipykernel)",
   "language": "python",
   "name": "python3"
  },
  "language_info": {
   "codemirror_mode": {
    "name": "ipython",
    "version": 3
   },
   "file_extension": ".py",
   "mimetype": "text/x-python",
   "name": "python",
   "nbconvert_exporter": "python",
   "pygments_lexer": "ipython3",
   "version": "3.10.13"
  }
 },
 "nbformat": 4,
 "nbformat_minor": 5
}
