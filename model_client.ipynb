{
 "cells": [
  {
   "cell_type": "code",
   "execution_count": 74,
   "id": "41d210a0-eb18-4922-b455-5f4fb9ea8f50",
   "metadata": {},
   "outputs": [],
   "source": [
    "import mlflow\n",
    "import numpy as np\n",
    "from mlflow import MlflowClient\n",
    "import pandas as pd\n",
    "\n",
    "MLFLOW_TRACKING_URI = \"sqlite:///wine_pred.db\"\n",
    "client = MlflowClient(tracking_uri=MLFLOW_TRACKING_URI)"
   ]
  },
  {
   "cell_type": "code",
   "execution_count": 45,
   "id": "4733fc55-b881-4480-8aaa-7abf114a899a",
   "metadata": {},
   "outputs": [
    {
     "name": "stdout",
     "output_type": "stream",
     "text": [
      "Experiment ID: 3\n",
      "Name: client_file2\n",
      "Artifact Location: /workspaces/mlops_wine/mlruns/3\n",
      "-\n",
      "Experiment ID: 2\n",
      "Name: client\n",
      "Artifact Location: /workspaces/mlops_wine/mlruns/2\n",
      "-\n",
      "Experiment ID: 1\n",
      "Name: wine-quality-prediction\n",
      "Artifact Location: /workspaces/mlops_wine/mlruns/1\n",
      "-\n",
      "Experiment ID: 0\n",
      "Name: Default\n",
      "Artifact Location: mlflow-artifacts:/0\n",
      "-\n"
     ]
    }
   ],
   "source": [
    "experiments = client.search_experiments()\n",
    "for experiment in experiments:\n",
    "    print(f\"Experiment ID: {experiment.experiment_id}\")\n",
    "    print(f\"Name: {experiment.name}\")\n",
    "    print(f\"Artifact Location: {experiment.artifact_location}\")\n",
    "    print(\"-\")"
   ]
  },
  {
   "cell_type": "code",
   "execution_count": 12,
   "id": "ef3228ff-050f-4895-9396-acf04cc1b4a4",
   "metadata": {},
   "outputs": [
    {
     "data": {
      "text/plain": [
       "'3'"
      ]
     },
     "execution_count": 12,
     "metadata": {},
     "output_type": "execute_result"
    }
   ],
   "source": [
    "client.create_experiment(name=\"client_file2\")"
   ]
  },
  {
   "cell_type": "code",
   "execution_count": 82,
   "id": "f901d0ab-e683-4ec9-8964-7eaca3c17122",
   "metadata": {},
   "outputs": [
    {
     "name": "stdout",
     "output_type": "stream",
     "text": [
      "run id: c85f35d99a4b4feaa21f84899fec0443, accuracy: 0.69\n",
      "run id: b698158da9154d36b157f1f9a2a04b00, accuracy: 0.66\n",
      "run id: ef74486a69674befa413a77cccc27080, accuracy: 0.64\n",
      "run id: d627ff48b5544e7b8a87d2564f806960, accuracy: 0.64\n",
      "run id: 37a77f6654084abb9d5478bed336be38, accuracy: 0.63\n",
      "run id: e289edb7fcd54190856cf5870b4bc0ca, accuracy: 0.57\n",
      "run id: cec9ccc5938a45b1b068857a4f7ef3a8, accuracy: 0.52\n",
      "run id: fde77d0f244f4eb283a8701f94aff267, accuracy: 0.35\n"
     ]
    }
   ],
   "source": [
    "from mlflow.entities import ViewType\n",
    "\n",
    "runs = client.search_runs(\n",
    "    experiment_ids='1',\n",
    "    filter_string=\"metrics.accuracy < 1\",\n",
    "    run_view_type=ViewType.ACTIVE_ONLY,\n",
    "    order_by=[\"metrics.accuracy DESC\"]\n",
    ")\n",
    "for run in runs:\n",
    "    print(f\"run id: {run.info.run_id}, accuracy: {run.data.metrics['accuracy']:.2f}\")"
   ]
  },
  {
   "cell_type": "code",
   "execution_count": 83,
   "id": "e9d4ccdc-bb2a-4309-ac8c-d2c59d3e6492",
   "metadata": {},
   "outputs": [
    {
     "name": "stdout",
     "output_type": "stream",
     "text": [
      "Nom du modèle: wine_classifier\n",
      "  Version: 1, Run ID: c85f35d99a4b4feaa21f84899fec0443\n",
      "  Version: 2, Run ID: b698158da9154d36b157f1f9a2a04b00\n",
      "  Version: 3, Run ID: cec9ccc5938a45b1b068857a4f7ef3a8\n",
      "Nom du modèle: wine_other\n",
      "  Version: 1, Run ID: ef74486a69674befa413a77cccc27080\n",
      "  Version: 2, Run ID: d627ff48b5544e7b8a87d2564f806960\n",
      "Nom du modèle: wine_regressor\n",
      "  Version: 1, Run ID: fde77d0f244f4eb283a8701f94aff267\n",
      "  Version: 2, Run ID: 37a77f6654084abb9d5478bed336be38\n"
     ]
    }
   ],
   "source": [
    "registered_models = client.search_registered_models()\n",
    "\n",
    "for model in registered_models:\n",
    "    print(f\"Nom du modèle: {model.name}\")\n",
    "    for version in model.latest_versions:\n",
    "        print(f\"  Version: {version.version}, Run ID: {version.run_id}\")"
   ]
  },
  {
   "cell_type": "code",
   "execution_count": 81,
   "id": "8695cf9e-5ad2-493e-800b-45bba2e06a3b",
   "metadata": {},
   "outputs": [
    {
     "name": "stdout",
     "output_type": "stream",
     "text": [
      "Prédiction de la qualité du vin: 4\n"
     ]
    }
   ],
   "source": [
    "#model_name = \"wine_classifier\"\n",
    "#model_name = \"wine_other\"\n",
    "model_name = \"wine_regressor\"\n",
    "\n",
    "model_versions = client.search_model_versions(f\"name='{model_name}'\")\n",
    "\n",
    "production_model = None\n",
    "for version in model_versions:\n",
    "    if version.current_stage == \"Production\":\n",
    "        production_model = version\n",
    "        break\n",
    "\n",
    "if not production_model:\n",
    "    raise Exception(\"Aucune version de modèle en Production trouvée.\")\n",
    "\n",
    "model_uri = production_model.source\n",
    "\n",
    "local_path = mlflow.artifacts.download_artifacts(model_uri)\n",
    "\n",
    "model_path = os.path.join(local_path, \"model.pkl\")\n",
    "model = joblib.load(model_path)\n",
    "\n",
    "feature_names = [\n",
    "    \"fixed acidity\", \"volatile acidity\", \"citric acid\", \"residual sugar\", \"chlorides\",\n",
    "    \"free sulfur dioxide\", \"total sulfur dioxide\", \"density\", \"pH\", \"sulphates\", \"alcohol\"\n",
    "]\n",
    "input_data = pd.DataFrame(np.array([[\n",
    "    15.0,  \n",
    "    1.58, \n",
    "    0.0,   \n",
    "    65.8, \n",
    "    0.611, \n",
    "    3.0,   \n",
    "    125.0, \n",
    "    1.003, \n",
    "    2.74,  \n",
    "    2.00,  \n",
    "    8.4    \n",
    "]]), columns=feature_names)\n",
    "\n",
    "prediction = model.predict(input_data)\n",
    "print(f\"Prédiction de la qualité du vin: {prediction[0]}\")"
   ]
  }
 ],
 "metadata": {
  "kernelspec": {
   "display_name": "Python 3 (ipykernel)",
   "language": "python",
   "name": "python3"
  },
  "language_info": {
   "codemirror_mode": {
    "name": "ipython",
    "version": 3
   },
   "file_extension": ".py",
   "mimetype": "text/x-python",
   "name": "python",
   "nbconvert_exporter": "python",
   "pygments_lexer": "ipython3",
   "version": "3.10.13"
  }
 },
 "nbformat": 4,
 "nbformat_minor": 5
}
